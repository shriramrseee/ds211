{
 "cells": [
  {
   "cell_type": "markdown",
   "metadata": {},
   "source": [
    "## 3(a) Linear Programming Model"
   ]
  },
  {
   "cell_type": "markdown",
   "metadata": {},
   "source": [
    "The variables for the problem are defined as follows, <br>\n",
    "$x_0$ - Amount of 2 year loan borrowed in $Q_1$ <br>\n",
    "$x_{3i-2}$ - Amount of 6 month loan borrowed in $Q_i$ <br>\n",
    "$x_{3i-1}$ - Amount of 3 month loan borrowed in $Q_i$ <br>\n",
    "$x_{3i}$ - Amount of cash surplus available after $Q_i$ <br>\n",
    "\n",
    "There are 25 variables and 8 equality constraints for the given problem. We assume that the loans are repaid by equated montly instalments (EMI). Using the formula $P*R*\\frac{(1+R)^N}{(1+R)^N-1}$, we calculate the EMI for each type loan. The standard form for this LP is given below, <br>\n",
    "\n",
    "$$\\min -1.005x_{24}$$\n",
    "\n",
    "$$0.86974x_0 + 0.489448x_1 - 0.016709x_2 -x_3 = 100$$\n",
    "$$-0.13026x_0 - 0.510552x_1 + 1.005x_3 + 0.489448x_4 - 0.016709x_5 -x_6 = 500$$\n",
    "$$-0.13026x_0 - 0.510552x_4 + 1.005x_6 + 0.489448x_7 - 0.016709x_8 -x_9 = 100$$\n",
    "$$-0.13026x_0 - 0.510552x_7 + 1.005x_9 + 0.489448x_{10} - 0.016709x_{11} -x_{12} = -600$$\n",
    "$$-0.13026x_0 - 0.510552x_{10} + 1.005x_{12} + 0.489448x_{13} - 0.016709x_{14} -x_{15} = -500$$\n",
    "$$-0.13026x_0 - 0.510552x_{13} + 1.005x_{15} + 0.489448x_{16} - 0.016709x_{17} -x_{18} = 200$$\n",
    "$$-0.13026x_0 - 0.510552x_{16} + 1.005x_{18} + 0.489448x_{19} - 0.016709x_{20} -x_{21} = 600$$\n",
    "$$-0.13026x_0 - 0.510552x_{19} + 1.005x_{21} + 0.489448x_{22} - 0.016709x_{23} -x_{24} = -900$$\n",
    "\n",
    "$$x_i \\geq 0$$"
   ]
  },
  {
   "cell_type": "markdown",
   "metadata": {},
   "source": [
    "## 3(b) Revised Simplex Algorithm"
   ]
  },
  {
   "cell_type": "code",
   "execution_count": 1,
   "metadata": {},
   "outputs": [],
   "source": [
    "import numpy as np\n",
    "import matplotlib.pyplot as plt\n",
    "from scipy.optimize import linprog\n",
    "import time"
   ]
  },
  {
   "cell_type": "code",
   "execution_count": 5,
   "metadata": {},
   "outputs": [],
   "source": [
    "def revised_simplex(c, A, b, max_iterations=100, init_basic=None):\n",
    "    \"\"\"\n",
    "    Implementation of Revised Simplex Algorithm\n",
    "    \"\"\"\n",
    "    i=1    \n",
    "    m, n = A.shape\n",
    "    II = set([j for j in range(n)])\n",
    "    if init_basic is None:\n",
    "        BB = set([j for j in range(n-m, n)])\n",
    "    else:\n",
    "        BB = init_basic\n",
    "    NN = II.difference(BB)   \n",
    "    x = np.zeros(n)\n",
    "    while i < max_iterations:\n",
    "        sBB = sorted(BB)\n",
    "        sNN = sorted(NN)\n",
    "        B = A[:, sBB]\n",
    "        N = A[:, sNN]\n",
    "        cB = c[sBB]\n",
    "        cN = c[sNN]\n",
    "        BI = np.linalg.pinv(B)\n",
    "        # xB = np.linalg.solve(B, b)\n",
    "        xB = np.matmul(BI, b)\n",
    "        x[sBB] = xB\n",
    "        # l = np.linalg.solve(B.transpose(), cB)\n",
    "        l = np.matmul(BI.transpose(), cB)\n",
    "        sN = cN - np.matmul(N.transpose(), l)\n",
    "        if min(sN) >= 0:\n",
    "            return x, i, True\n",
    "        else:\n",
    "            q = np.argmin(sN)\n",
    "            Q = A[:, sNN[q]]\n",
    "            # d = np.linalg.solve(B, Q)\n",
    "            d = np.matmul(BI, Q)\n",
    "            if max(d) <= 0:\n",
    "                return x, i, False\n",
    "            else:\n",
    "                p = np.argmin(xB/d)\n",
    "                BB = BB.difference({sBB[p]}).union({sNN[q]})\n",
    "                NN = II.difference(BB)\n",
    "        i+=1\n",
    "    sBB = sorted(BB)\n",
    "    B = A[:, sBB]\n",
    "    BI = np.linalg.pinv(B)\n",
    "    xB = np.matmul(BI, b)\n",
    "    x[sBB] = xB\n",
    "    return x, i, True\n",
    "            \n",
    "    "
   ]
  },
  {
   "cell_type": "markdown",
   "metadata": {},
   "source": [
    "## 3(c) LP Solution"
   ]
  },
  {
   "cell_type": "code",
   "execution_count": 6,
   "metadata": {},
   "outputs": [
    {
     "name": "stdout",
     "output_type": "stream",
     "text": [
      "[3.66666667 1.33333333 1.         8.        ] 3 True\n"
     ]
    }
   ],
   "source": [
    "# LP Problem Input\n",
    "A = np.array([[1, 1, 1, 0], [2, 0.5, 0, 1]])\n",
    "b = np.array([5, 8]).transpose()\n",
    "c = np.array([-3, -2, 0, 0]).transpose()\n",
    "\n",
    "# Call Revised Simplex\n",
    "x, i, found = revised_simplex(c, A, b, 20)\n",
    "\n",
    "# Print Results\n",
    "print(x, i, found)"
   ]
  },
  {
   "cell_type": "code",
   "execution_count": 9,
   "metadata": {},
   "outputs": [
    {
     "name": "stdout",
     "output_type": "stream",
     "text": [
      "[ 0.00000000e+00  0.00000000e+00 -5.98479861e+03  0.00000000e+00\n",
      "  0.00000000e+00 -2.99239931e+04  0.00000000e+00  0.00000000e+00\n",
      " -5.98479861e+03  0.00000000e+00  0.00000000e+00  3.59087917e+04\n",
      "  0.00000000e+00  0.00000000e+00  2.99239931e+04  3.49355187e+02\n",
      "  0.00000000e+00 -1.51704198e+01 -1.99746517e+02  0.00000000e+00\n",
      " -1.17739853e+01 -8.00548519e+02  0.00000000e+00  1.59440783e+00\n",
      "  9.54220979e+01] 200 True\n"
     ]
    },
    {
     "name": "stderr",
     "output_type": "stream",
     "text": [
      "C:\\ProgramData\\Anaconda3\\lib\\site-packages\\ipykernel_launcher.py:38: RuntimeWarning: divide by zero encountered in true_divide\n"
     ]
    }
   ],
   "source": [
    "# LP Problem Input\n",
    "A = np.array([[0.86974, 0.489448, -0.016709, -1, 0, 0, 0, 0, 0, 0, 0, 0, 0, 0, 0, 0, 0, 0, 0, 0, 0, 0, 0, 0, 0],\n",
    "              [-0.13026, -0.510552, 0, 1.005, 0.489448, -0.016709, -1, 0, 0, 0, 0, 0, 0, 0, 0, 0, 0, 0, 0, 0, 0, 0, 0, 0, 0],\n",
    "              [-0.13026, 0, 0, 0, -0.510552, 0, 1.005, 0.489448, -0.016709, -1, 0, 0, 0, 0, 0, 0, 0, 0, 0, 0, 0, 0, 0, 0, 0],\n",
    "              [-0.13026, 0, 0, 0, 0, 0, 0, -0.510552, 0, 1.005, 0.489448, -0.016709, -1, 0, 0, 0, 0, 0, 0, 0, 0, 0, 0, 0, 0],\n",
    "              [-0.13026, 0, 0, 0, 0, 0, 0, 0, 0, 0, -0.510552, 0, 1.005, 0.489448, -0.016709, -1, 0, 0, 0, 0, 0, 0, 0, 0, 0],\n",
    "              [-0.13026, 0, 0, 0, 0, 0, 0, 0, 0, 0, 0, 0, 0, -0.510552, 0, 1.005, 0.489448, -0.016709, -1, 0, 0, 0, 0, 0, 0],\n",
    "              [-0.13026, 0, 0, 0, 0, 0, 0, 0, 0, 0, 0, 0, 0, 0, 0, 0, -0.510552, 0, 1.005, 0.489448, -0.016709, -1, 0, 0, 0],\n",
    "              [-0.13026, 0, 0, 0, 0, 0, 0, 0, 0, 0, 0, 0, 0, 0, 0, 0, 0, 0, 0, -0.510552, 0, 1.005, 0.489448, -0.016709, -1]])\n",
    "b = np.array([100, 500, 100, -600, -500, 200, 600, -900]).transpose()\n",
    "c = np.array([0, 0, 0, 0, 0, 0, 0, 0, 0, 0, 0, 0, 0, 0, 0, 0, 0, 0, 0, 0, 0, 0, 0.510552, 0, -1.005]).transpose()\n",
    "\n",
    "# Call Revised Simplex\n",
    "x, i, found = revised_simplex(c, A, b, 200, {2, 5, 8, 11, 14, 17, 20, 23})\n",
    "\n",
    "# Print Results\n",
    "print(x, i, found)"
   ]
  },
  {
   "cell_type": "markdown",
   "metadata": {},
   "source": [
    "## 3(d) Other Packages"
   ]
  },
  {
   "cell_type": "code",
   "execution_count": 44,
   "metadata": {},
   "outputs": [
    {
     "name": "stdout",
     "output_type": "stream",
     "text": [
      "     con: array([ 0.00000000e+00, -5.68434189e-14, -5.68434189e-14,  0.00000000e+00,\n",
      "        1.13686838e-13, -2.27373675e-13,  0.00000000e+00,  0.00000000e+00])\n",
      "     fun: -462.51913808223037\n",
      " message: 'Optimization terminated successfully.'\n",
      "     nit: 8\n",
      "   slack: array([], dtype=float64)\n",
      "  status: 0\n",
      " success: True\n",
      "       x: array([1134.74844104,    0.        ,    0.        ,  889.9420564 ,\n",
      "          0.        ,    0.        ,  246.57943476,    0.        ,\n",
      "          0.        ,    0.        ,    0.        ,    0.        ,\n",
      "        452.18766807,    0.        ,    0.        ,  806.63627448,\n",
      "          0.        ,    0.        ,  462.85712392,  577.46874517,\n",
      "          0.        ,    0.        ,    0.        ,    0.        ,\n",
      "        460.21804784])\n"
     ]
    }
   ],
   "source": [
    "# Call Scipy LP Solver\n",
    "result = linprog(c, A_eq=A, b_eq=b, method='Simplex')\n",
    "\n",
    "# Print Results\n",
    "print(result)"
   ]
  },
  {
   "cell_type": "code",
   "execution_count": null,
   "metadata": {},
   "outputs": [],
   "source": []
  }
 ],
 "metadata": {
  "kernelspec": {
   "display_name": "Python 3",
   "language": "python",
   "name": "python3"
  },
  "language_info": {
   "codemirror_mode": {
    "name": "ipython",
    "version": 3
   },
   "file_extension": ".py",
   "mimetype": "text/x-python",
   "name": "python",
   "nbconvert_exporter": "python",
   "pygments_lexer": "ipython3",
   "version": "3.7.3"
  }
 },
 "nbformat": 4,
 "nbformat_minor": 4
}
