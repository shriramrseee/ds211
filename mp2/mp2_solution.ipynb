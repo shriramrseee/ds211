{
 "cells": [
  {
   "cell_type": "markdown",
   "metadata": {},
   "source": [
    "## 3(a) Linear Programming Model"
   ]
  },
  {
   "cell_type": "markdown",
   "metadata": {},
   "source": [
    "## 3(b) Revised Simplex Algorithm"
   ]
  },
  {
   "cell_type": "code",
   "execution_count": 3,
   "metadata": {},
   "outputs": [],
   "source": [
    "import numpy as np\n",
    "import matplotlib.pyplot as plt\n",
    "import time"
   ]
  },
  {
   "cell_type": "code",
   "execution_count": 30,
   "metadata": {},
   "outputs": [],
   "source": [
    "def revised_simplex(c, A, b, max_iterations=100):\n",
    "    \"\"\"\n",
    "    Implementation of Revised Simplex Algorithm\n",
    "    \"\"\"\n",
    "    i=0    \n",
    "    m, n = A.shape\n",
    "    II = set([j for j in range(n)])\n",
    "    BB = set([j for j in range(n-m, n)])\n",
    "    NN = II.difference(BB)   \n",
    "    x = np.zeros(n)\n",
    "    while i < max_iterations:\n",
    "        sBB = sorted(BB)\n",
    "        sNN = sorted(NN)\n",
    "        B = A[:, sBB]\n",
    "        N = A[:, sNN]\n",
    "        cB = c[sBB]\n",
    "        cN = c[sNN]\n",
    "        xB = np.linalg.solve(B, b)\n",
    "        x[sBB] = xB\n",
    "        l = np.linalg.solve(B.transpose(), cB)\n",
    "        sN = cN - np.matmul(N.transpose(), l)\n",
    "        if min(sN) >= 0:\n",
    "            return x, i, True\n",
    "        else:\n",
    "            q = np.argmin(sN)\n",
    "            Q = A[:, sNN[q]]\n",
    "            d = np.linalg.solve(B, Q)\n",
    "            if max(d) <= 0:\n",
    "                return x, i, False\n",
    "            else:\n",
    "                p = np.argmin(xB/d)\n",
    "                BB = BB.difference({sBB[p]}).union({sNN[q]})\n",
    "                NN = II.difference(BB)\n",
    "        i+=1\n",
    "    sBB = sorted(BB)\n",
    "    B = A[:, sBB]\n",
    "    xB = np.linalg.solve(B, b)\n",
    "    x[sBB] = xB\n",
    "    return x, i, True\n",
    "            \n",
    "    "
   ]
  },
  {
   "cell_type": "markdown",
   "metadata": {},
   "source": [
    "## 3(c) LP Solution"
   ]
  },
  {
   "cell_type": "code",
   "execution_count": 31,
   "metadata": {},
   "outputs": [
    {
     "name": "stdout",
     "output_type": "stream",
     "text": [
      "[3.66666667 1.33333333 1.         8.        ] 2 True\n"
     ]
    }
   ],
   "source": [
    "A = np.array([[1, 1, 1, 0], [2, 0.5, 0, 1]])\n",
    "b = np.array([5, 8]).transpose()\n",
    "c = np.array([-3, -2, 0, 0]).transpose()\n",
    "x, i, found = revised_simplex(c, A, b, 20)\n",
    "print(x, i, found)"
   ]
  },
  {
   "cell_type": "code",
   "execution_count": null,
   "metadata": {},
   "outputs": [],
   "source": []
  }
 ],
 "metadata": {
  "kernelspec": {
   "display_name": "Python 3",
   "language": "python",
   "name": "python3"
  },
  "language_info": {
   "codemirror_mode": {
    "name": "ipython",
    "version": 3
   },
   "file_extension": ".py",
   "mimetype": "text/x-python",
   "name": "python",
   "nbconvert_exporter": "python",
   "pygments_lexer": "ipython3",
   "version": "3.7.3"
  }
 },
 "nbformat": 4,
 "nbformat_minor": 4
}
