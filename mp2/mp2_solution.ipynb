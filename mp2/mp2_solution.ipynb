{
 "cells": [
  {
   "cell_type": "markdown",
   "metadata": {},
   "source": [
    "## 3(a) Linear Programming Model"
   ]
  },
  {
   "cell_type": "markdown",
   "metadata": {},
   "source": [
    "The variables for the problem are defined as follows, <br>\n",
    "$x_0$ - Amount of 2 year loan at $1\\%$ interest per quarter borrowed in $Q_1$ <br>\n",
    "$x_{3i-2}$ - Amount of 6 month loan at $1.8\\%$ interest borrowed in $Q_i$ <br>\n",
    "$x_{3i-1}$ - Amount of 3 month loan at $2.5\\%$ interest borrowed in $Q_i$ <br>\n",
    "$x_{3i}$ - Amount of cash surplus available after $Q_i$ <br>\n",
    "\n",
    "The modelling idea is from [1]. There are 25 variables and 8 equality constraints for the given problem. We assume that the loans are repaid by equated monthly instalments (EMI). Using the formula $P*R*\\frac{(1+R)^N}{(1+R)^N-1}$, we calculate the EMI for each type of loan and prorate for each quarter and add it as part of demand. The standard form for this LP is given below, <br>\n",
    "\n",
    "<img src=\"diagram.png\"> \n",
    "\n",
    "$$\\min 0.510552x_{22}-1.005x_{24}$$\n",
    "\n",
    "$$0.86974x_0 + 0.489448x_1 - 0.016709x_2 -x_3 = 100$$\n",
    "$$-0.13026x_0 - 0.510552x_1 + 1.005x_3 + 0.489448x_4 - 0.016709x_5 -x_6 = 500$$\n",
    "$$-0.13026x_0 - 0.510552x_4 + 1.005x_6 + 0.489448x_7 - 0.016709x_8 -x_9 = 100$$\n",
    "$$-0.13026x_0 - 0.510552x_7 + 1.005x_9 + 0.489448x_{10} - 0.016709x_{11} -x_{12} = -600$$\n",
    "$$-0.13026x_0 - 0.510552x_{10} + 1.005x_{12} + 0.489448x_{13} - 0.016709x_{14} -x_{15} = -500$$\n",
    "$$-0.13026x_0 - 0.510552x_{13} + 1.005x_{15} + 0.489448x_{16} - 0.016709x_{17} -x_{18} = 200$$\n",
    "$$-0.13026x_0 - 0.510552x_{16} + 1.005x_{18} + 0.489448x_{19} - 0.016709x_{20} -x_{21} = 600$$\n",
    "$$-0.13026x_0 - 0.510552x_{19} + 1.005x_{21} + 0.489448x_{22} - 0.016709x_{23} -x_{24} = -900$$\n",
    "\n",
    "$$x_i \\geq 0$$"
   ]
  },
  {
   "cell_type": "markdown",
   "metadata": {},
   "source": [
    "## 3(b) Revised Simplex Algorithm"
   ]
  },
  {
   "cell_type": "code",
   "execution_count": 2,
   "metadata": {},
   "outputs": [],
   "source": [
    "import numpy as np\n",
    "import matplotlib.pyplot as plt\n",
    "from scipy.optimize import linprog\n",
    "import time"
   ]
  },
  {
   "cell_type": "code",
   "execution_count": 3,
   "metadata": {},
   "outputs": [],
   "source": [
    "def revised_simplex(c, A, b, max_iterations=100, init_basic=None, pert_eps=3.1):\n",
    "    \"\"\"\n",
    "    Implementation of Revised Simplex Algorithm\n",
    "    \"\"\"\n",
    "    i=1    \n",
    "    m, n = A.shape\n",
    "    \n",
    "    # Initialize Basic and Non-Basic Sets\n",
    "    II = set([j for j in range(n)])\n",
    "    if init_basic is None:\n",
    "        BB = set([j for j in range(n-m, n)])\n",
    "    else:\n",
    "        BB = init_basic\n",
    "    NN = II.difference(BB)   \n",
    "    x = np.zeros(n)\n",
    "    prev_bases = []\n",
    "    is_degenerate = False    \n",
    "    \n",
    "    while i < max_iterations:\n",
    "        sBB = sorted(BB)\n",
    "        sNN = sorted(NN)\n",
    "        B = A[:, sBB]\n",
    "        N = A[:, sNN]\n",
    "        cB = c[sBB]\n",
    "        cN = c[sNN]\n",
    "        BI = np.linalg.inv(B)\n",
    "        \n",
    "        # Detect Dengeneracy\n",
    "        if BB in prev_bases:\n",
    "            print(BB)\n",
    "            if not is_degenerate:\n",
    "                b = b + np.matmul(B, np.power(np.ones(m)*pert_eps, np.arange(1, m+1)).transpose()) # Add Perturbation\n",
    "                is_degenerate = True\n",
    "        prev_bases.append(BB.copy())\n",
    "        \n",
    "        xB = np.matmul(BI, b)\n",
    "        x = np.zeros(n)\n",
    "        x[sBB] = xB\n",
    "        l = np.matmul(BI.transpose(), cB)\n",
    "        sN = cN - np.matmul(N.transpose(), l)\n",
    "        if min(sN) >= 0:\n",
    "            return x, i, np.dot(x, c), BB, True # Converged\n",
    "        else:\n",
    "            q = np.argmin(sN)\n",
    "            Q = A[:, sNN[q]]\n",
    "            d = np.matmul(BI, Q)\n",
    "            if max(d) <= 0:\n",
    "                return x, i, np.dot(x, c), BB, False # Unbounded\n",
    "            else:\n",
    "                ratios = xB/d\n",
    "                pr = np.where(ratios >= 0)[0]\n",
    "                p = pr[ratios[pr].argmin()]\n",
    "                BB = BB.difference({sBB[p]}).union({sNN[q]})\n",
    "                NN = II.difference(BB)\n",
    "        i+=1\n",
    "    sBB = sorted(BB)\n",
    "    B = A[:, sBB]\n",
    "    BI = np.linalg.inv(B)\n",
    "    xB = np.matmul(BI, b)\n",
    "    x = np.zeros(n)\n",
    "    x[sBB] = xB\n",
    "    return x, i, np.dot(x, c), BB, True # Iterations Completed\n",
    "            \n",
    "    "
   ]
  },
  {
   "cell_type": "markdown",
   "metadata": {},
   "source": [
    "## 3(c) LP Solution"
   ]
  },
  {
   "cell_type": "markdown",
   "metadata": {},
   "source": [
    "We find the initial basic feasible set and use this input for our original LP formulation."
   ]
  },
  {
   "cell_type": "code",
   "execution_count": 4,
   "metadata": {},
   "outputs": [
    {
     "name": "stdout",
     "output_type": "stream",
     "text": [
      "[1139.66686273    0.            0.          891.21385719    0.\n",
      "    0.          247.21692093    0.            0.            0.\n",
      "    0.            0.          451.54699446    0.            0.\n",
      "  805.3517239     0.            0.          460.92547698  582.74403242\n",
      "    0.            0.            0.            0.          454.02586322] 1 -456.295992539817 {0, 18, 3, 19, 6, 24, 12, 15} True\n"
     ]
    },
    {
     "name": "stderr",
     "output_type": "stream",
     "text": [
      "C:\\ProgramData\\Anaconda3\\lib\\site-packages\\ipykernel_launcher.py:50: RuntimeWarning: divide by zero encountered in true_divide\n"
     ]
    }
   ],
   "source": [
    "# LP Problem Input\n",
    "\n",
    "# Starting the Simplex Method (Finding the initial basic feasible set using technique from [2]) \n",
    "A = np.array([[0.86974, 0.489448, -0.016709, -1, 0, 0, 0, 0, 0, 0, 0, 0, 0, 0, 0, 0, 0, 0, 0, 0, 0, 0, 0, 0, 0, 1, 0, 0, 0, 0, 0, 0, 0],\n",
    "              [-0.13026, -0.510552, 0, 1.005, 0.489448, -0.016709, -1, 0, 0, 0, 0, 0, 0, 0, 0, 0, 0, 0, 0, 0, 0, 0, 0, 0, 0, 0, 1, 0, 0, 0, 0, 0, 0],\n",
    "              [-0.13026, 0, 0, 0, -0.510552, 0, 1.005, 0.489448, -0.016709, -1, 0, 0, 0, 0, 0, 0, 0, 0, 0, 0, 0, 0, 0, 0, 0, 0, 0, 1, 0, 0, 0, 0, 0],\n",
    "              [-0.13026, 0, 0, 0, 0, 0, 0, -0.510552, 0, 1.005, 0.489448, -0.016709, -1, 0, 0, 0, 0, 0, 0, 0, 0, 0, 0, 0, 0, 0, 0, 0, -1, 0, 0, 0, 0],\n",
    "              [-0.13026, 0, 0, 0, 0, 0, 0, 0, 0, 0, -0.510552, 0, 1.005, 0.489448, -0.016709, -1, 0, 0, 0, 0, 0, 0, 0, 0, 0, 0, 0, 0, 0, -1, 0, 0, 0],\n",
    "              [-0.13026, 0, 0, 0, 0, 0, 0, 0, 0, 0, 0, 0, 0, -0.510552, 0, 1.005, 0.489448, -0.016709, -1, 0, 0, 0, 0, 0, 0, 0, 0, 0, 0, 0, 1, 0, 0],\n",
    "              [-0.13026, 0, 0, 0, 0, 0, 0, 0, 0, 0, 0, 0, 0, 0, 0, 0, -0.510552, 0, 1.005, 0.489448, -0.016709, -1, 0, 0, 0, 0, 0, 0, 0, 0, 0, 1, 0],\n",
    "              [-0.13026, 0, 0, 0, 0, 0, 0, 0, 0, 0, 0, 0, 0, 0, 0, 0, 0, 0, 0, -0.510552, 0, 1.005, 0.489448, -0.016709, -1, 0, 0, 0, 0, 0, 0, 0, -1]])\n",
    "b = np.array([100, 500, 100, -600, -500, 200, 600, -900]).transpose()\n",
    "c = np.array([0, 0, 0, 0, 0, 0, 0, 0, 0, 0, 0, 0, 0, 0, 0, 0, 0, 0, 0, 0, 0, 0, 0, 0, 0, 1, 1, 1, 1, 1, 1, 1, 1]).transpose()\n",
    "x, i, obj, BB, found = revised_simplex(c, A, b, 40, {25, 26, 27, 28, 29, 30, 31, 32}) # Use BB obtained as initial set\n",
    "\n",
    "# Solving Actual LP Problem\n",
    "A = np.array([[0.86974, 0.489448, -0.016709, -1, 0, 0, 0, 0, 0, 0, 0, 0, 0, 0, 0, 0, 0, 0, 0, 0, 0, 0, 0, 0, 0],\n",
    "              [-0.13026, -0.510552, 0, 1.005, 0.489448, -0.016709, -1, 0, 0, 0, 0, 0, 0, 0, 0, 0, 0, 0, 0, 0, 0, 0, 0, 0, 0],\n",
    "              [-0.13026, 0, 0, 0, -0.510552, 0, 1.005, 0.489448, -0.016709, -1, 0, 0, 0, 0, 0, 0, 0, 0, 0, 0, 0, 0, 0, 0, 0],\n",
    "              [-0.13026, 0, 0, 0, 0, 0, 0, -0.510552, 0, 1.005, 0.489448, -0.016709, -1, 0, 0, 0, 0, 0, 0, 0, 0, 0, 0, 0, 0],\n",
    "              [-0.13026, 0, 0, 0, 0, 0, 0, 0, 0, 0, -0.510552, 0, 1.005, 0.489448, -0.016709, -1, 0, 0, 0, 0, 0, 0, 0, 0, 0],\n",
    "              [-0.13026, 0, 0, 0, 0, 0, 0, 0, 0, 0, 0, 0, 0, -0.510552, 0, 1.005, 0.489448, -0.016709, -1, 0, 0, 0, 0, 0, 0],\n",
    "              [-0.13026, 0, 0, 0, 0, 0, 0, 0, 0, 0, 0, 0, 0, 0, 0, 0, -0.510552, 0, 1.005, 0.489448, -0.016709, -1, 0, 0, 0],\n",
    "              [-0.13026, 0, 0, 0, 0, 0, 0, 0, 0, 0, 0, 0, 0, 0, 0, 0, 0, 0, 0, -0.510552, 0, 1.005, 0.489448, -0.016709, -1]])\n",
    "b = np.array([100, 500, 100, -600, -500, 200, 600, -900]).transpose()\n",
    "c = np.array([0, 0, 0, 0, 0, 0, 0, 0, 0, 0, 0, 0, 0, 0, 0, 0, 0, 0, 0, 0, 0, 0, 0.510552, 0, -1.005]).transpose()\n",
    "\n",
    "# Call Revised Simplex\n",
    "x, i, obj, BB, found = revised_simplex(c, A, b, 100, BB)\n",
    "\n",
    "# Print Results\n",
    "print(x, i, obj, BB, found)"
   ]
  },
  {
   "cell_type": "markdown",
   "metadata": {},
   "source": [
    "## 3(d) Other Packages"
   ]
  },
  {
   "cell_type": "code",
   "execution_count": 5,
   "metadata": {},
   "outputs": [
    {
     "name": "stdout",
     "output_type": "stream",
     "text": [
      "     con: array([ 0.00000000e+00,  0.00000000e+00,  0.00000000e+00,  0.00000000e+00,\n",
      "       -5.68434189e-14,  1.13686838e-13,  0.00000000e+00,  0.00000000e+00])\n",
      "     fun: -456.29599253981667\n",
      " message: 'Optimization terminated successfully.'\n",
      "     nit: 8\n",
      "   slack: array([], dtype=float64)\n",
      "  status: 0\n",
      " success: True\n",
      "       x: array([1139.66686273,    0.        ,    0.        ,  891.21385719,\n",
      "          0.        ,    0.        ,  247.21692093,    0.        ,\n",
      "          0.        ,    0.        ,    0.        ,    0.        ,\n",
      "        451.54699446,    0.        ,    0.        ,  805.3517239 ,\n",
      "          0.        ,    0.        ,  460.92547698,  582.74403242,\n",
      "          0.        ,    0.        ,    0.        ,    0.        ,\n",
      "        454.02586322])\n"
     ]
    }
   ],
   "source": [
    "# Call Scipy LP Solver\n",
    "result = linprog(c, A_eq=A, b_eq=b, method='Simplex')\n",
    "\n",
    "# Print Results\n",
    "print(result)"
   ]
  },
  {
   "cell_type": "markdown",
   "metadata": {},
   "source": [
    "### References\n",
    "\n",
    "1. http://www.columbia.edu/itc/sipa/U6033/client_edit/lectures/lec4.pdf\n",
    "2. Nocedal, Jorge, and Stephen Wright. Numerical optimization. Springer Science & Business Media, 2006.\n"
   ]
  }
 ],
 "metadata": {
  "kernelspec": {
   "display_name": "Python 3",
   "language": "python",
   "name": "python3"
  },
  "language_info": {
   "codemirror_mode": {
    "name": "ipython",
    "version": 3
   },
   "file_extension": ".py",
   "mimetype": "text/x-python",
   "name": "python",
   "nbconvert_exporter": "python",
   "pygments_lexer": "ipython3",
   "version": "3.7.3"
  }
 },
 "nbformat": 4,
 "nbformat_minor": 4
}
